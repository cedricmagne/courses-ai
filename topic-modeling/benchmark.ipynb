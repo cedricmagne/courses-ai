{
 "cells": [
  {
   "cell_type": "code",
   "execution_count": null,
   "id": "6781c102",
   "metadata": {},
   "outputs": [
    {
     "name": "stdout",
     "output_type": "stream",
     "text": [
      "⏱ Pandas time: 0.7532 seconds\n",
      "Polars time: 0.1639 seconds\n"
     ]
    }
   ],
   "source": [
    "import pandas as pd\n",
    "import polars as pl\n",
    "import numpy as np\n",
    "import time\n",
    "\n",
    "# Configuration\n",
    "NUM_ROWS = 10_000_000\n",
    "\n",
    "# Génération de données\n",
    "np.random.seed(42)\n",
    "data = {\n",
    "    \"id\": np.arange(NUM_ROWS),\n",
    "    \"age\": np.random.randint(18, 90, size=NUM_ROWS),\n",
    "    \"city\": np.random.choice([\"Paris\", \"Lyon\", \"Marseille\", \"Toulouse\", \"Nice\"], size=NUM_ROWS),\n",
    "    \"score\": np.random.normal(loc=50, scale=10, size=NUM_ROWS),\n",
    "    \"gender\": np.random.choice([\"M\", \"F\"], size=NUM_ROWS)\n",
    "}\n",
    "\n",
    "### 🔹 Pandas Benchmark\n",
    "df_pandas = pd.DataFrame(data)\n",
    "\n",
    "start = time.time()\n",
    "\n",
    "# Filtrage\n",
    "filtered_pd = df_pandas[df_pandas[\"age\"] > 30]\n",
    "\n",
    "# GroupBy & Agrégation\n",
    "grouped_pd = filtered_pd.groupby(\"city\").agg({\n",
    "    \"score\": \"mean\",\n",
    "    \"age\": \"max\"\n",
    "})\n",
    "\n",
    "end = time.time()\n",
    "print(f\"⏱ Pandas time: {end - start:.4f} seconds\")\n",
    "\n",
    "### 🔹 Polars Benchmark\n",
    "df_polars = pl.DataFrame(data)\n",
    "\n",
    "start = time.time()\n",
    "\n",
    "# Filtrage\n",
    "filtered_pl = df_polars.filter(pl.col(\"age\") > 30)\n",
    "\n",
    "# GroupBy & Agrégation\n",
    "grouped_pl = (\n",
    "    filtered_pl\n",
    "    .group_by(\"city\")\n",
    "    .agg([\n",
    "        pl.col(\"score\").mean().alias(\"score_mean\"),\n",
    "        pl.col(\"age\").max().alias(\"age_max\")\n",
    "    ])\n",
    ")\n",
    "\n",
    "end = time.time()\n",
    "print(f\"Polars time: {end - start:.4f} seconds\")\n"
   ]
  }
 ],
 "metadata": {
  "kernelspec": {
   "display_name": ".venv",
   "language": "python",
   "name": "python3"
  },
  "language_info": {
   "codemirror_mode": {
    "name": "ipython",
    "version": 3
   },
   "file_extension": ".py",
   "mimetype": "text/x-python",
   "name": "python",
   "nbconvert_exporter": "python",
   "pygments_lexer": "ipython3",
   "version": "3.11.5"
  }
 },
 "nbformat": 4,
 "nbformat_minor": 5
}
