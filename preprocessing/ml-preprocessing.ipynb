{
 "cells": [
  {
   "cell_type": "markdown",
   "id": "ca551cbb",
   "metadata": {},
   "source": [
    "# Preprocessing Technics"
   ]
  },
  {
   "cell_type": "markdown",
   "id": "d506d455",
   "metadata": {},
   "source": [
    "Exemples simples et didactiques des méthodes de préprocessing en machine learning"
   ]
  },
  {
   "cell_type": "code",
   "execution_count": 13,
   "id": "4012dca7",
   "metadata": {},
   "outputs": [],
   "source": [
    "import numpy as np\n",
    "import pandas as pd\n",
    "import matplotlib.pyplot as plt\n",
    "import seaborn as sns\n",
    "from sklearn.impute import SimpleImputer, KNNImputer\n",
    "from sklearn.preprocessing import LabelEncoder, OneHotEncoder, StandardScaler, MinMaxScaler\n",
    "from sklearn.preprocessing import KBinsDiscretizer\n",
    "from sklearn.compose import ColumnTransformer\n",
    "from sklearn.model_selection import train_test_split\n",
    "from sklearn.linear_model import LinearRegression\n",
    "from sklearn.metrics import mean_squared_error\n",
    "from scipy import stats"
   ]
  },
  {
   "cell_type": "code",
   "execution_count": null,
   "id": "932221ef",
   "metadata": {},
   "outputs": [],
   "source": []
  },
  {
   "cell_type": "code",
   "execution_count": 14,
   "id": "bc53ab50",
   "metadata": {},
   "outputs": [],
   "source": [
    "# Configuration pour les graphiques\n",
    "plt.style.use('seaborn-v0_8-whitegrid')\n",
    "sns.set_palette(\"colorblind\")"
   ]
  },
  {
   "cell_type": "code",
   "execution_count": 15,
   "id": "91b63e1d",
   "metadata": {},
   "outputs": [
    {
     "name": "stdout",
     "output_type": "stream",
     "text": [
      "Dataset original:\n",
      "     animal couleur  taille_cm  poids_kg  age_annees  vitesse_kmh\n",
      "0     Chien    Brun       60.0      25.0         5.0           40\n",
      "1      Chat   Blanc       30.0       4.0         3.0           30\n",
      "2    Cheval    Noir      180.0     450.0        12.0           70\n",
      "3     Chien    Noir       50.0      20.0         2.0           35\n",
      "4      Chat    Roux        NaN       5.0         7.0           32\n",
      "5  Éléphant    Gris      300.0       NaN        25.0           25\n",
      "6    Girafe   Jaune      500.0     800.0        10.0           50\n",
      "7     Chien   Blanc       55.0      22.0         NaN           38\n",
      "8    Cheval    Brun        NaN     400.0         8.0           75\n",
      "9  Éléphant    Gris      310.0    5000.0        30.0           30\n"
     ]
    }
   ],
   "source": [
    "# Création d'un dataset simple avec des animaux et leurs caractéristiques\n",
    "data = {\n",
    "    'animal': ['Chien', 'Chat', 'Cheval', 'Chien', 'Chat', 'Éléphant', 'Girafe', 'Chien', 'Cheval', 'Éléphant'],\n",
    "    'couleur': ['Brun', 'Blanc', 'Noir', 'Noir', 'Roux', 'Gris', 'Jaune', 'Blanc', 'Brun', 'Gris'],\n",
    "    'taille_cm': [60, 30, 180, 50, np.nan, 300, 500, 55, np.nan, 310],\n",
    "    'poids_kg': [25, 4, 450, 20, 5, np.nan, 800, 22, 400, 5000],\n",
    "    'age_annees': [5, 3, 12, 2, 7, 25, 10, np.nan, 8, 30],\n",
    "    'vitesse_kmh': [40, 30, 70, 35, 32, 25, 50, 38, 75, 30]\n",
    "}\n",
    "\n",
    "# Création du DataFrame\n",
    "df = pd.DataFrame(data)\n",
    "print(\"Dataset original:\")\n",
    "print(df)\n"
   ]
  },
  {
   "cell_type": "markdown",
   "id": "957bc1be",
   "metadata": {},
   "source": [
    "## 1. DATA CLEANING"
   ]
  },
  {
   "cell_type": "code",
   "execution_count": 16,
   "id": "e1976548",
   "metadata": {},
   "outputs": [],
   "source": [
    "# print(\"\\n\\n=============================================\")\n",
    "# print(\"1. DATA CLEANING\")\n",
    "# print(\"=============================================\")"
   ]
  },
  {
   "cell_type": "markdown",
   "id": "d509de35",
   "metadata": {},
   "source": [
    "### 1.1 Imputation simple (mean, median, mode)\n"
   ]
  },
  {
   "cell_type": "code",
   "execution_count": 17,
   "id": "bb54513a",
   "metadata": {},
   "outputs": [
    {
     "name": "stdout",
     "output_type": "stream",
     "text": [
      "\n",
      "1.1 Imputation simple (mean, median, mode)\n",
      "-------------------------------------------\n",
      "Valeurs manquantes dans le dataset:\n",
      "animal         0\n",
      "couleur        0\n",
      "taille_cm      2\n",
      "poids_kg       1\n",
      "age_annees     1\n",
      "vitesse_kmh    0\n",
      "dtype: int64\n"
     ]
    }
   ],
   "source": [
    "print(\"\\n1.1 Imputation simple (mean, median, mode)\")\n",
    "print(\"-------------------------------------------\")\n",
    "\n",
    "# Affichage des valeurs manquantes\n",
    "print(\"Valeurs manquantes dans le dataset:\")\n",
    "print(df.isnull().sum())"
   ]
  },
  {
   "cell_type": "code",
   "execution_count": 18,
   "id": "c1902e6d",
   "metadata": {},
   "outputs": [
    {
     "name": "stdout",
     "output_type": "stream",
     "text": [
      "\n",
      "Données après imputation par la moyenne:\n",
      "   taille_cm     poids_kg  age_annees\n",
      "0     60.000    25.000000    5.000000\n",
      "1     30.000     4.000000    3.000000\n",
      "2    180.000   450.000000   12.000000\n",
      "3     50.000    20.000000    2.000000\n",
      "4    185.625     5.000000    7.000000\n",
      "5    300.000   747.333333   25.000000\n",
      "6    500.000   800.000000   10.000000\n",
      "7     55.000    22.000000   11.333333\n",
      "8    185.625   400.000000    8.000000\n",
      "9    310.000  5000.000000   30.000000\n"
     ]
    }
   ],
   "source": [
    "# Exemple avec la moyenne\n",
    "imputer_mean = SimpleImputer(strategy='mean')\n",
    "df_mean = df.copy()\n",
    "df_mean[['taille_cm', 'poids_kg', 'age_annees']] = imputer_mean.fit_transform(df[['taille_cm', 'poids_kg', 'age_annees']])\n",
    "print(\"\\nDonnées après imputation par la moyenne:\")\n",
    "print(df_mean[['taille_cm', 'poids_kg', 'age_annees']])"
   ]
  },
  {
   "cell_type": "code",
   "execution_count": 19,
   "id": "718af8e3",
   "metadata": {},
   "outputs": [
    {
     "name": "stdout",
     "output_type": "stream",
     "text": [
      "\n",
      "Données après imputation par la médiane:\n",
      "   taille_cm  poids_kg  age_annees\n",
      "0       60.0      25.0         5.0\n",
      "1       30.0       4.0         3.0\n",
      "2      180.0     450.0        12.0\n",
      "3       50.0      20.0         2.0\n",
      "4      120.0       5.0         7.0\n",
      "5      300.0      25.0        25.0\n",
      "6      500.0     800.0        10.0\n",
      "7       55.0      22.0         8.0\n",
      "8      120.0     400.0         8.0\n",
      "9      310.0    5000.0        30.0\n"
     ]
    }
   ],
   "source": [
    "# Exemple avec la médiane\n",
    "imputer_median = SimpleImputer(strategy='median')\n",
    "df_median = df.copy()\n",
    "df_median[['taille_cm', 'poids_kg', 'age_annees']] = imputer_median.fit_transform(df[['taille_cm', 'poids_kg', 'age_annees']])\n",
    "print(\"\\nDonnées après imputation par la médiane:\")\n",
    "print(df_median[['taille_cm', 'poids_kg', 'age_annees']])"
   ]
  },
  {
   "cell_type": "code",
   "execution_count": 20,
   "id": "0ce67f5c",
   "metadata": {},
   "outputs": [
    {
     "name": "stdout",
     "output_type": "stream",
     "text": [
      "\n",
      "Données après imputation par le mode:\n",
      "   taille_cm  poids_kg  age_annees\n",
      "0       60.0      25.0         5.0\n",
      "1       30.0       4.0         3.0\n",
      "2      180.0     450.0        12.0\n",
      "3       50.0      20.0         2.0\n",
      "4       30.0       5.0         7.0\n",
      "5      300.0       4.0        25.0\n",
      "6      500.0     800.0        10.0\n",
      "7       55.0      22.0         2.0\n",
      "8       30.0     400.0         8.0\n",
      "9      310.0    5000.0        30.0\n"
     ]
    }
   ],
   "source": [
    "# Exemple avec le mode\n",
    "imputer_mode = SimpleImputer(strategy='most_frequent')\n",
    "df_mode = df.copy()\n",
    "df_mode[['taille_cm', 'poids_kg', 'age_annees']] = imputer_mode.fit_transform(df[['taille_cm', 'poids_kg', 'age_annees']])\n",
    "print(\"\\nDonnées après imputation par le mode:\")\n",
    "print(df_mode[['taille_cm', 'poids_kg', 'age_annees']])"
   ]
  },
  {
   "cell_type": "markdown",
   "id": "e5bd8bf4",
   "metadata": {},
   "source": [
    "### 1.2 KNN Imputer"
   ]
  },
  {
   "cell_type": "code",
   "execution_count": 21,
   "id": "5af8fdd8",
   "metadata": {},
   "outputs": [
    {
     "name": "stdout",
     "output_type": "stream",
     "text": [
      "Données après imputation par KNN (n_neighbors=3):\n",
      "    taille_cm     poids_kg  age_annees  vitesse_kmh\n",
      "0   60.000000    25.000000    5.000000         40.0\n",
      "1   30.000000     4.000000    3.000000         30.0\n",
      "2  180.000000   450.000000   12.000000         70.0\n",
      "3   50.000000    20.000000    2.000000         35.0\n",
      "4   46.666667     5.000000    7.000000         32.0\n",
      "5  300.000000  1801.666667   25.000000         25.0\n",
      "6  500.000000   800.000000   10.000000         50.0\n",
      "7   55.000000    22.000000    4.666667         38.0\n",
      "8  180.000000   400.000000    8.000000         75.0\n",
      "9  310.000000  5000.000000   30.000000         30.0\n"
     ]
    }
   ],
   "source": [
    "# print(\"\\n1.2 KNN Imputer\")\n",
    "# print(\"---------------\")\n",
    "\n",
    "# Exemple avec KNN Imputer (n_neighbors=3)\n",
    "imputer_knn = KNNImputer(n_neighbors=3)\n",
    "df_knn = df.copy()\n",
    "numeric_cols = ['taille_cm', 'poids_kg', 'age_annees', 'vitesse_kmh']\n",
    "df_knn[numeric_cols] = imputer_knn.fit_transform(df[numeric_cols])\n",
    "print(\"Données après imputation par KNN (n_neighbors=3):\")\n",
    "print(df_knn[numeric_cols])"
   ]
  },
  {
   "cell_type": "markdown",
   "id": "dd97845e",
   "metadata": {},
   "source": [
    "### 1.3 Suppression de lignes et colonnes avec trop de valeurs manquantes"
   ]
  },
  {
   "cell_type": "code",
   "execution_count": 22,
   "id": "253c0da0",
   "metadata": {},
   "outputs": [
    {
     "name": "stdout",
     "output_type": "stream",
     "text": [
      "\n",
      "1.3 Suppression de lignes et colonnes avec trop de valeurs manquantes\n",
      "--------------------------------------------------------------------\n",
      "Dataset avec plus de valeurs manquantes:\n",
      "animal         0\n",
      "couleur        0\n",
      "taille_cm      2\n",
      "poids_kg       3\n",
      "age_annees     1\n",
      "vitesse_kmh    4\n",
      "dtype: int64\n",
      "\n",
      "Données après suppression des lignes avec > 30% de valeurs manquantes:\n",
      "Avant: 10 lignes, Après: 6 lignes\n",
      "\n",
      "Données après suppression des colonnes avec > 30% de valeurs manquantes:\n",
      "Avant: 6 colonnes, Après: 5 colonnes\n",
      "Colonnes supprimées: {'vitesse_kmh'}\n"
     ]
    }
   ],
   "source": [
    "print(\"\\n1.3 Suppression de lignes et colonnes avec trop de valeurs manquantes\")\n",
    "print(\"--------------------------------------------------------------------\")\n",
    "\n",
    "# Création d'un dataframe avec plus de valeurs manquantes pour l'exemple\n",
    "df_na = df.copy()\n",
    "df_na.loc[2:5, 'vitesse_kmh'] = np.nan  # Ajout de NaN dans vitesse_kmh\n",
    "df_na.loc[7:8, 'poids_kg'] = np.nan     # Ajout de NaN dans poids_kg\n",
    "print(\"Dataset avec plus de valeurs manquantes:\")\n",
    "print(df_na.isnull().sum())\n",
    "\n",
    "# Suppression des lignes avec > 30% de valeurs manquantes\n",
    "df_drop_rows = df_na.dropna(thresh=df_na.shape[1] * 0.7)\n",
    "print(\"\\nDonnées après suppression des lignes avec > 30% de valeurs manquantes:\")\n",
    "print(f\"Avant: {df_na.shape[0]} lignes, Après: {df_drop_rows.shape[0]} lignes\")\n",
    "\n",
    "# Suppression des colonnes avec > 30% de valeurs manquantes\n",
    "df_drop_cols = df_na.dropna(axis=1, thresh=df_na.shape[0] * 0.7)\n",
    "print(\"\\nDonnées après suppression des colonnes avec > 30% de valeurs manquantes:\")\n",
    "print(f\"Avant: {df_na.shape[1]} colonnes, Après: {df_drop_cols.shape[1]} colonnes\")\n",
    "print(f\"Colonnes supprimées: {set(df_na.columns) - set(df_drop_cols.columns)}\")"
   ]
  },
  {
   "cell_type": "markdown",
   "id": "77bb581c",
   "metadata": {},
   "source": [
    "### 1.4 Traitement des outliers"
   ]
  },
  {
   "cell_type": "code",
   "execution_count": 23,
   "id": "c5553126",
   "metadata": {},
   "outputs": [
    {
     "name": "stdout",
     "output_type": "stream",
     "text": [
      "\n",
      "1.4 Traitement des outliers\n",
      "-------------------------\n",
      "Dataset avec outliers:\n",
      "   taille_cm     poids_kg  age_annees\n",
      "0     60.000    25.000000    5.000000\n",
      "1     30.000     4.000000    3.000000\n",
      "2    180.000   450.000000   12.000000\n",
      "3     50.000    20.000000    2.000000\n",
      "4    185.625     5.000000    7.000000\n",
      "5    300.000   747.333333   25.000000\n",
      "6    500.000   800.000000   10.000000\n",
      "7     55.000    22.000000   11.333333\n",
      "8    185.625   400.000000   40.000000\n",
      "9    310.000  9000.000000   30.000000\n"
     ]
    }
   ],
   "source": [
    "print(\"\\n1.4 Traitement des outliers\")\n",
    "print(\"-------------------------\")\n",
    "\n",
    "# Création d'un dataframe avec des outliers pour l'exemple\n",
    "df_outliers = df_mean.copy()\n",
    "df_outliers.loc[9, 'poids_kg'] = 9000  # Ajout d'un outlier\n",
    "df_outliers.loc[8, 'age_annees'] = 40  # Ajout d'un autre outlier\n",
    "\n",
    "print(\"Dataset avec outliers:\")\n",
    "print(df_outliers[['taille_cm', 'poids_kg', 'age_annees']])"
   ]
  },
  {
   "cell_type": "markdown",
   "id": "b9783047",
   "metadata": {},
   "source": [
    "#### Méthode 1: Z-Score"
   ]
  },
  {
   "cell_type": "code",
   "execution_count": 24,
   "id": "1286cd45",
   "metadata": {},
   "outputs": [
    {
     "name": "stdout",
     "output_type": "stream",
     "text": [
      "\n",
      "Détection des outliers avec Z-Score (|z| > 2):\n",
      "Outliers détectés par Z-Score: 3 observations\n",
      "Nouvelles dimensions: (7, 6)\n"
     ]
    }
   ],
   "source": [
    "print(\"\\nDétection des outliers avec Z-Score (|z| > 2):\")\n",
    "z_scores = stats.zscore(df_outliers[['taille_cm', 'poids_kg', 'age_annees']])\n",
    "abs_z_scores = np.abs(z_scores)\n",
    "filtered_entries = (abs_z_scores < 2).all(axis=1)\n",
    "df_z_filtered = df_outliers[filtered_entries]\n",
    "print(f\"Outliers détectés par Z-Score: {(~filtered_entries).sum()} observations\")\n",
    "print(f\"Nouvelles dimensions: {df_z_filtered.shape}\")"
   ]
  },
  {
   "cell_type": "markdown",
   "id": "a2479c00",
   "metadata": {},
   "source": [
    "#### Méthode 2: IQR (Interquartile Range)\n"
   ]
  },
  {
   "cell_type": "code",
   "execution_count": 25,
   "id": "966f5117",
   "metadata": {},
   "outputs": [
    {
     "name": "stdout",
     "output_type": "stream",
     "text": [
      "\n",
      "Détection des outliers avec IQR (1.5 * IQR):\n",
      "Outliers détectés par IQR: 1 observations\n",
      "Nouvelles dimensions: (9, 6)\n"
     ]
    },
    {
     "data": {
      "image/png": "[encoded data removed]",
      "text/plain": [
       "<Figure size 1200x600 with 2 Axes>"
      ]
     },
     "metadata": {},
     "output_type": "display_data"
    }
   ],
   "source": [
    "print(\"\\nDétection des outliers avec IQR (1.5 * IQR):\")\n",
    "Q1 = df_outliers[['taille_cm', 'poids_kg', 'age_annees']].quantile(0.25)\n",
    "Q3 = df_outliers[['taille_cm', 'poids_kg', 'age_annees']].quantile(0.75)\n",
    "IQR = Q3 - Q1\n",
    "\n",
    "# Création d'un masque pour filtrer les outliers\n",
    "outlier_mask = ((df_outliers[['taille_cm', 'poids_kg', 'age_annees']] < (Q1 - 1.5 * IQR)) | \n",
    "                (df_outliers[['taille_cm', 'poids_kg', 'age_annees']] > (Q3 + 1.5 * IQR))).any(axis=1)\n",
    "\n",
    "df_iqr_filtered = df_outliers[~outlier_mask]\n",
    "print(f\"Outliers détectés par IQR: {outlier_mask.sum()} observations\")\n",
    "print(f\"Nouvelles dimensions: {df_iqr_filtered.shape}\")\n",
    "\n",
    "# Visualisation des outliers avec un boxplot\n",
    "plt.figure(figsize=(12, 6))\n",
    "plt.subplot(1, 2, 1)\n",
    "sns.boxplot(data=df_outliers[['taille_cm', 'poids_kg', 'age_annees']])\n",
    "plt.title('Avant traitement des outliers')\n",
    "plt.xticks(rotation=45)\n",
    "\n",
    "plt.subplot(1, 2, 2)\n",
    "sns.boxplot(data=df_iqr_filtered[['taille_cm', 'poids_kg', 'age_annees']])\n",
    "plt.title('Après traitement des outliers (IQR)')\n",
    "plt.xticks(rotation=45)\n",
    "plt.tight_layout()\n",
    "#plt.savefig('outliers_detection.png')\n",
    "#plt.close()"
   ]
  },
  {
   "cell_type": "markdown",
   "id": "1b29dcb1",
   "metadata": {},
   "source": [
    "## 2. PREPROCESSING"
   ]
  },
  {
   "cell_type": "code",
   "execution_count": 26,
   "id": "abb83780",
   "metadata": {},
   "outputs": [],
   "source": [
    "# print(\"\\n\\n=============================================\")\n",
    "# print(\"2. PREPROCESSING\")\n",
    "# print(\"=============================================\")"
   ]
  },
  {
   "cell_type": "code",
   "execution_count": 27,
   "id": "5095c699",
   "metadata": {},
   "outputs": [],
   "source": [
    "# Utilisation du dataframe sans les outliers pour la suite\n",
    "df_clean = df_mean.copy()"
   ]
  },
  {
   "cell_type": "markdown",
   "id": "ee554caf",
   "metadata": {},
   "source": [
    "### 2.1 Encoding des variables catégorielles"
   ]
  },
  {
   "cell_type": "code",
   "execution_count": 28,
   "id": "b28bbc15",
   "metadata": {},
   "outputs": [
    {
     "name": "stdout",
     "output_type": "stream",
     "text": [
      "\n",
      "2.1 Encoding des variables catégorielles\n",
      "--------------------------------------\n"
     ]
    }
   ],
   "source": [
    "print(\"\\n2.1 Encoding des variables catégorielles\")\n",
    "print(\"--------------------------------------\")"
   ]
  },
  {
   "cell_type": "code",
   "execution_count": 29,
   "id": "ca524f1c",
   "metadata": {},
   "outputs": [
    {
     "name": "stdout",
     "output_type": "stream",
     "text": [
      "\n",
      "Label Encoder (pour les variables ordinales):\n",
      "     animal  animal_encoded\n",
      "0     Chien               2\n",
      "1      Chat               0\n",
      "2    Cheval               1\n",
      "3     Chien               2\n",
      "4      Chat               0\n",
      "5  Éléphant               4\n",
      "6    Girafe               3\n",
      "7     Chien               2\n",
      "8    Cheval               1\n",
      "9  Éléphant               4\n",
      "Mapping: {'Chat': 0, 'Cheval': 1, 'Chien': 2, 'Girafe': 3, 'Éléphant': 4}\n"
     ]
    }
   ],
   "source": [
    "# Label Encoder (pour les variables ordinales)\n",
    "print(\"\\nLabel Encoder (pour les variables ordinales):\")\n",
    "le = LabelEncoder()\n",
    "df_clean['animal_encoded'] = le.fit_transform(df_clean['animal'])\n",
    "print(pd.DataFrame({'animal': df_clean['animal'], 'animal_encoded': df_clean['animal_encoded']}))\n",
    "print(f\"Mapping: {dict(zip(le.classes_, range(len(le.classes_))))}\")"
   ]
  },
  {
   "cell_type": "code",
   "execution_count": 30,
   "id": "2a9a5ed3",
   "metadata": {},
   "outputs": [
    {
     "name": "stdout",
     "output_type": "stream",
     "text": [
      "\n",
      "One-Hot Encoder (pour les variables nominales):\n",
      "   animal_Chat  animal_Cheval  animal_Chien  animal_Girafe  animal_Éléphant\n",
      "0          0.0            0.0           1.0            0.0              0.0\n",
      "1          1.0            0.0           0.0            0.0              0.0\n",
      "2          0.0            1.0           0.0            0.0              0.0\n",
      "3          0.0            0.0           1.0            0.0              0.0\n",
      "4          1.0            0.0           0.0            0.0              0.0\n",
      "\n",
      "Données avec encoding One-Hot:\n",
      "   animal  animal_encoded  animal_Chat  animal_Cheval  animal_Chien  \\\n",
      "0   Chien               2          0.0            0.0           1.0   \n",
      "1    Chat               0          1.0            0.0           0.0   \n",
      "2  Cheval               1          0.0            1.0           0.0   \n",
      "3   Chien               2          0.0            0.0           1.0   \n",
      "4    Chat               0          1.0            0.0           0.0   \n",
      "\n",
      "   animal_Girafe  animal_Éléphant  \n",
      "0            0.0              0.0  \n",
      "1            0.0              0.0  \n",
      "2            0.0              0.0  \n",
      "3            0.0              0.0  \n",
      "4            0.0              0.0  \n"
     ]
    }
   ],
   "source": [
    "# One-Hot Encoder (pour les variables nominales)\n",
    "print(\"\\nOne-Hot Encoder (pour les variables nominales):\")\n",
    "ohe = OneHotEncoder(sparse_output=False)\n",
    "animal_encoded = ohe.fit_transform(df_clean[['animal']])\n",
    "animal_encoded_df = pd.DataFrame(animal_encoded, columns=[f'animal_{cat}' for cat in ohe.categories_[0]])\n",
    "print(animal_encoded_df.head())\n",
    "\n",
    "# Ajout des données encodées au dataframe\n",
    "df_clean = pd.concat([df_clean, animal_encoded_df], axis=1)\n",
    "print(\"\\nDonnées avec encoding One-Hot:\")\n",
    "print(df_clean[['animal'] + [col for col in df_clean.columns if 'animal_' in col]].head())"
   ]
  },
  {
   "cell_type": "code",
   "execution_count": 31,
   "id": "020983f4",
   "metadata": {},
   "outputs": [
    {
     "name": "stdout",
     "output_type": "stream",
     "text": [
      "\n",
      "Target Encoding (moyenne de la variable cible par catégorie):\n",
      "     animal  vitesse_kmh  animal_target_encoded\n",
      "0     Chien           40              37.666667\n",
      "1      Chat           30              31.000000\n",
      "2    Cheval           70              72.500000\n",
      "3     Chien           35              37.666667\n",
      "4      Chat           32              31.000000\n",
      "5  Éléphant           25              27.500000\n",
      "6    Girafe           50              50.000000\n",
      "7     Chien           38              37.666667\n",
      "8    Cheval           75              72.500000\n",
      "9  Éléphant           30              27.500000\n"
     ]
    }
   ],
   "source": [
    "# Target Encoding (simulé pour l'exemple)\n",
    "print(\"\\nTarget Encoding (moyenne de la variable cible par catégorie):\")\n",
    "# On va simuler un target encoding en utilisant la vitesse comme variable cible\n",
    "target_means = df_clean.groupby('animal')['vitesse_kmh'].mean().to_dict()\n",
    "df_clean['animal_target_encoded'] = df_clean['animal'].map(target_means)\n",
    "print(pd.DataFrame({\n",
    "    'animal': df_clean['animal'], \n",
    "    'vitesse_kmh': df_clean['vitesse_kmh'],\n",
    "    'animal_target_encoded': df_clean['animal_target_encoded']\n",
    "}))"
   ]
  },
  {
   "cell_type": "markdown",
   "id": "cc49211e",
   "metadata": {},
   "source": [
    "### 2.2 Scaling des variables numériques"
   ]
  },
  {
   "cell_type": "code",
   "execution_count": 32,
   "id": "8ebb5c38",
   "metadata": {},
   "outputs": [
    {
     "name": "stdout",
     "output_type": "stream",
     "text": [
      "\n",
      "2.2 Scaling des variables numériques\n",
      "---------------------------------\n"
     ]
    }
   ],
   "source": [
    "print(\"\\n2.2 Scaling des variables numériques\")\n",
    "print(\"---------------------------------\")\n",
    "\n",
    "# Sélection des colonnes numériques\n",
    "numeric_cols = ['taille_cm', 'poids_kg', 'age_annees']"
   ]
  },
  {
   "cell_type": "code",
   "execution_count": 35,
   "id": "1e779ffd",
   "metadata": {},
   "outputs": [
    {
     "name": "stdout",
     "output_type": "stream",
     "text": [
      "\n",
      "StandardScaler (normalisation: moyenne = 0, écart-type = 1):\n",
      "       taille_cm_scaled  poids_kg_scaled  age_annees_scaled\n",
      "count             10.00            10.00              10.00\n",
      "mean               0.00            -0.00              -0.00\n",
      "std                1.05             1.05               1.05\n",
      "min               -1.09            -0.51              -1.07\n",
      "25%               -0.91            -0.50              -0.67\n",
      "50%               -0.02            -0.37              -0.27\n",
      "75%                0.60            -0.05               0.06\n",
      "max                2.21             2.94               2.14\n"
     ]
    }
   ],
   "source": [
    "# StandardScaler (normalisation: moyenne = 0, écart-type = 1)\n",
    "print(\"\\nStandardScaler (normalisation: moyenne = 0, écart-type = 1):\")\n",
    "scaler = StandardScaler()\n",
    "df_clean[[col + '_scaled' for col in numeric_cols]] = scaler.fit_transform(df_clean[numeric_cols])\n",
    "print(df_clean[[col + '_scaled' for col in numeric_cols]].describe().round(2))"
   ]
  },
  {
   "cell_type": "code",
   "execution_count": 36,
   "id": "15507675",
   "metadata": {},
   "outputs": [
    {
     "name": "stdout",
     "output_type": "stream",
     "text": [
      "\n",
      "MinMaxScaler (mise à l'échelle: min = 0, max = 1):\n",
      "       taille_cm_minmax  poids_kg_minmax  age_annees_minmax\n",
      "count             10.00            10.00              10.00\n",
      "mean               0.33             0.15               0.33\n",
      "std                0.32             0.31               0.33\n",
      "min                0.00             0.00               0.00\n",
      "25%                0.06             0.00               0.12\n",
      "50%                0.33             0.04               0.25\n",
      "75%                0.51             0.13               0.35\n",
      "max                1.00             1.00               1.00\n"
     ]
    }
   ],
   "source": [
    "# MinMaxScaler (mise à l'échelle: min = 0, max = 1)\n",
    "print(\"\\nMinMaxScaler (mise à l'échelle: min = 0, max = 1):\")\n",
    "min_max_scaler = MinMaxScaler()\n",
    "df_clean[[col + '_minmax' for col in numeric_cols]] = min_max_scaler.fit_transform(df_clean[numeric_cols])\n",
    "print(df_clean[[col + '_minmax' for col in numeric_cols]].describe().round(2))"
   ]
  },
  {
   "cell_type": "code",
   "execution_count": 37,
   "id": "71223af4",
   "metadata": {},
   "outputs": [
    {
     "data": {
      "image/png": "[encoded data removed]",
      "text/plain": [
       "<Figure size 1200x600 with 3 Axes>"
      ]
     },
     "metadata": {},
     "output_type": "display_data"
    }
   ],
   "source": [
    "# Visualisation des différentes méthodes de scaling sur la taille\n",
    "plt.figure(figsize=(12, 6))\n",
    "plt.subplot(1, 3, 1)\n",
    "sns.histplot(df_clean['taille_cm'], kde=True)\n",
    "plt.title('Taille originale')\n",
    "\n",
    "plt.subplot(1, 3, 2)\n",
    "sns.histplot(df_clean['taille_cm_scaled'], kde=True)\n",
    "plt.title('Taille standardisée\\n(StandardScaler)')\n",
    "\n",
    "plt.subplot(1, 3, 3)\n",
    "sns.histplot(df_clean['taille_cm_minmax'], kde=True)\n",
    "plt.title('Taille normalisée\\n(MinMaxScaler)')\n",
    "\n",
    "plt.tight_layout()\n",
    "#plt.savefig('scaling_comparison.png')\n",
    "#plt.close()"
   ]
  },
  {
   "cell_type": "markdown",
   "id": "a348cc2a",
   "metadata": {},
   "source": [
    "### 2.3 Feature Engineering (application de fonctions dérivées)"
   ]
  },
  {
   "cell_type": "code",
   "execution_count": 39,
   "id": "496dcc74",
   "metadata": {},
   "outputs": [
    {
     "name": "stdout",
     "output_type": "stream",
     "text": [
      "\n",
      "2.3 Feature Engineering (application de fonctions dérivées)\n",
      "--------------------------------------------------------\n",
      "Nouvelles caractéristiques dérivées:\n",
      "     animal  ratio_poids_taille  densité  vitesse_relative  log_poids\n",
      "0     Chien               0.417  115.741             0.667      3.258\n",
      "1      Chat               0.133  148.148             1.000      1.609\n",
      "2    Cheval               2.500   77.160             0.389      6.111\n",
      "3     Chien               0.400  160.000             0.700      3.045\n",
      "4      Chat               0.027    0.782             0.172      1.792\n",
      "5  Éléphant               2.491   27.679             0.083      6.618\n",
      "6    Girafe               1.600    6.400             0.100      6.686\n",
      "7     Chien               0.400  132.231             0.691      3.135\n",
      "8    Cheval               2.155   62.539             0.404      5.994\n",
      "9  Éléphant              16.129  167.836             0.097      8.517\n"
     ]
    },
    {
     "data": {
      "image/png": "[encoded data removed]",
      "text/plain": [
       "<Figure size 1000x500 with 2 Axes>"
      ]
     },
     "metadata": {},
     "output_type": "display_data"
    }
   ],
   "source": [
    "print(\"\\n2.3 Feature Engineering (application de fonctions dérivées)\")\n",
    "print(\"--------------------------------------------------------\")\n",
    "\n",
    "# Création de nouvelles caractéristiques à partir des existantes\n",
    "df_clean['ratio_poids_taille'] = df_clean['poids_kg'] / df_clean['taille_cm']\n",
    "df_clean['densité'] = df_clean['poids_kg'] / (df_clean['taille_cm'] ** 3) * 1000000  # Mesure de densité (simulée)\n",
    "df_clean['vitesse_relative'] = df_clean['vitesse_kmh'] / df_clean['taille_cm']  # Vitesse par unité de taille\n",
    "\n",
    "# Transformation logarithmique pour les variables avec forte asymétrie\n",
    "df_clean['log_poids'] = np.log1p(df_clean['poids_kg'])  # log1p pour éviter log(0)\n",
    "\n",
    "print(\"Nouvelles caractéristiques dérivées:\")\n",
    "print(df_clean[['animal', 'ratio_poids_taille', 'densité', 'vitesse_relative', 'log_poids']].round(3))\n",
    "\n",
    "# Visualisation de l'effet de la transformation logarithmique\n",
    "plt.figure(figsize=(10, 5))\n",
    "plt.subplot(1, 2, 1)\n",
    "sns.histplot(df_clean['poids_kg'], kde=True)\n",
    "plt.title('Distribution du poids (original)')\n",
    "\n",
    "plt.subplot(1, 2, 2)\n",
    "sns.histplot(df_clean['log_poids'], kde=True)\n",
    "plt.title('Distribution du poids (log)')\n",
    "\n",
    "plt.tight_layout()\n",
    "#plt.savefig('log_transformation.png')\n",
    "#plt.close()\n"
   ]
  },
  {
   "cell_type": "markdown",
   "id": "0d98dd17",
   "metadata": {},
   "source": [
    "### 2.4 Discrétisation (binning)"
   ]
  },
  {
   "cell_type": "code",
   "execution_count": 40,
   "id": "89bd72fc",
   "metadata": {},
   "outputs": [
    {
     "name": "stdout",
     "output_type": "stream",
     "text": [
      "\n",
      "2.4 Discrétisation (binning)\n",
      "---------------------------\n",
      "\n",
      "Discrétisation manuelle avec pd.cut:\n",
      "     animal  taille_cm  taille_cat\n",
      "1      Chat     30.000       Petit\n",
      "3     Chien     50.000       Petit\n",
      "7     Chien     55.000       Moyen\n",
      "0     Chien     60.000       Moyen\n",
      "2    Cheval    180.000       Grand\n",
      "4      Chat    185.625       Grand\n",
      "8    Cheval    185.625       Grand\n",
      "5  Éléphant    300.000  Très grand\n",
      "9  Éléphant    310.000  Très grand\n",
      "6    Girafe    500.000  Très grand\n"
     ]
    }
   ],
   "source": [
    "print(\"\\n2.4 Discrétisation (binning)\")\n",
    "print(\"---------------------------\")\n",
    "\n",
    "# Méthode 1: Discrétisation manuelle avec pd.cut\n",
    "print(\"\\nDiscrétisation manuelle avec pd.cut:\")\n",
    "df_clean['taille_cat'] = pd.cut(df_clean['taille_cm'], \n",
    "                               bins=[0, 50, 100, 200, 1000],\n",
    "                               labels=['Petit', 'Moyen', 'Grand', 'Très grand'])\n",
    "print(df_clean[['animal', 'taille_cm', 'taille_cat']].sort_values('taille_cm'))"
   ]
  },
  {
   "cell_type": "code",
   "execution_count": 41,
   "id": "1cce703c",
   "metadata": {},
   "outputs": [
    {
     "name": "stdout",
     "output_type": "stream",
     "text": [
      "\n",
      "Discrétisation automatique avec KBinsDiscretizer:\n",
      "     animal  taille_cm  taille_bins\n",
      "1      Chat     30.000          0.0\n",
      "3     Chien     50.000          0.0\n",
      "7     Chien     55.000          0.0\n",
      "0     Chien     60.000          1.0\n",
      "2    Cheval    180.000          1.0\n",
      "4      Chat    185.625          2.0\n",
      "8    Cheval    185.625          2.0\n",
      "5  Éléphant    300.000          3.0\n",
      "9  Éléphant    310.000          3.0\n",
      "6    Girafe    500.000          3.0\n",
      "Limites des bins (strategy='quantile'): [ 30.    56.25 182.81 271.41 500.  ]\n"
     ]
    }
   ],
   "source": [
    "# Méthode 2: Discrétisation automatique avec KBinsDiscretizer\n",
    "print(\"\\nDiscrétisation automatique avec KBinsDiscretizer:\")\n",
    "discretizer = KBinsDiscretizer(n_bins=4, encode='ordinal', strategy='quantile')\n",
    "df_clean['taille_bins'] = discretizer.fit_transform(df_clean[['taille_cm']])\n",
    "print(df_clean[['animal', 'taille_cm', 'taille_bins']].sort_values('taille_cm'))\n",
    "print(f\"Limites des bins (strategy='quantile'): {discretizer.bin_edges_[0].round(2)}\")"
   ]
  },
  {
   "cell_type": "code",
   "execution_count": 42,
   "id": "e8a55599",
   "metadata": {},
   "outputs": [
    {
     "data": {
      "image/png": "[encoded data removed]",
      "text/plain": [
       "<Figure size 1500x500 with 3 Axes>"
      ]
     },
     "metadata": {},
     "output_type": "display_data"
    }
   ],
   "source": [
    "# Comparaison des différentes stratégies de binning\n",
    "strategies = ['uniform', 'quantile', 'kmeans']\n",
    "plt.figure(figsize=(15, 5))\n",
    "\n",
    "for i, strategy in enumerate(strategies):\n",
    "    discretizer = KBinsDiscretizer(n_bins=4, encode='ordinal', strategy=strategy)\n",
    "    bins = discretizer.fit_transform(df_clean[['taille_cm']])\n",
    "    \n",
    "    plt.subplot(1, 3, i+1)\n",
    "    plt.scatter(df_clean['taille_cm'], np.zeros_like(df_clean['taille_cm']), c=bins, cmap='viridis', s=100)\n",
    "    plt.xlabel('Taille (cm)')\n",
    "    plt.title(f\"Stratégie: {strategy}\")\n",
    "    plt.grid(True)\n",
    "    \n",
    "    # Ajout des limites des bins\n",
    "    for edge in discretizer.bin_edges_[0]:\n",
    "        plt.axvline(x=edge, color='r', linestyle='--', alpha=0.3)\n",
    "\n",
    "plt.tight_layout()\n",
    "#plt.savefig('binning_strategies.png')\n",
    "#plt.close()"
   ]
  },
  {
   "cell_type": "code",
   "execution_count": null,
   "id": "41b40c59",
   "metadata": {},
   "outputs": [
    {
     "name": "stdout",
     "output_type": "stream",
     "text": [
      "\n",
      "============================================\n",
      "Résumé des techniques de préprocessing\n",
      "============================================\n",
      "\n",
      "1. DATA CLEANING:\n",
      "   - Imputation simple: mean, median, mode\n",
      "   - KNN Imputer: utilise les k voisins les plus proches\n",
      "   - Suppression: élimination des lignes ou colonnes avec trop de valeurs manquantes\n",
      "   - Traitement des outliers: méthodes Z-Score et IQR\n",
      "\n",
      "2. PREPROCESSING:\n",
      "   - Encoding: transformation des variables catégorielles en valeurs numériques\n",
      "   - Scaling: normalisation et standardisation des variables numériques\n",
      "   - Feature Engineering: création de nouvelles caractéristiques dérivées\n",
      "   - Discrétisation: transformation de variables continues en catégories\n",
      "\n",
      "\n",
      "Traitement des données terminé!\n"
     ]
    }
   ],
   "source": [
    "print(\"\\n============================================\")\n",
    "print(\"Résumé des techniques de préprocessing\")\n",
    "print(\"============================================\")\n",
    "\n",
    "print(\"\"\"\n",
    "1. DATA CLEANING:\n",
    "   - Imputation simple: mean, median, mode\n",
    "   - KNN Imputer: utilise les k voisins les plus proches\n",
    "   - Suppression: élimination des lignes ou colonnes avec trop de valeurs manquantes\n",
    "   - Traitement des outliers: méthodes Z-Score et IQR\n",
    "\n",
    "2. PREPROCESSING:\n",
    "   - Encoding: transformation des variables catégorielles en valeurs numériques\n",
    "   - Scaling: normalisation et standardisation des variables numériques\n",
    "   - Feature Engineering: création de nouvelles caractéristiques dérivées\n",
    "   - Discrétisation: transformation de variables continues en catégories\n",
    "\"\"\")\n",
    "\n",
    "print(\"\\nTraitement des données terminé!\")"
   ]
  },
  {
   "cell_type": "code",
   "execution_count": null,
   "id": "a95a5771",
   "metadata": {},
   "outputs": [],
   "source": []
  }
 ],
 "metadata": {
  "kernelspec": {
   "display_name": "alyra-ml-py3.9",
   "language": "python",
   "name": "python3"
  },
  "language_info": {
   "codemirror_mode": {
    "name": "ipython",
    "version": 3
   },
   "file_extension": ".py",
   "mimetype": "text/x-python",
   "name": "python",
   "nbconvert_exporter": "python",
   "pygments_lexer": "ipython3",
   "version": "3.9.21"
  }
 },
 "nbformat": 4,
 "nbformat_minor": 5
}
